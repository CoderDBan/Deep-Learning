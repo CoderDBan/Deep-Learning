{
  "cells": [
    {
      "cell_type": "markdown",
      "id": "9bda93ba",
      "metadata": {
        "id": "9bda93ba"
      },
      "source": [
        "## Group No\n",
        "\n",
        "## Group Member Names:\n",
        "1. Debarati Banerjee\n",
        "2. Mrutyunjay Shukla\n",
        "3. Tiasa Mukherjee\n",
        "4. Rahul Kundu\n",
        "\n",
        "## Journal used for the implemetation\n",
        "Journal title: Wildlife surveillance using deep learning methods\n",
        "\n",
        "Authors: Ruilong Chen, Ruth Littl, Lyudmila Mihaylova, Richard Delahay,Ruth Cox\n",
        "\n",
        "Journal Name:Wiley\n",
        "\n",
        "Year:2/25/2019"
      ]
    },
    {
      "cell_type": "markdown",
      "id": "0c7f7028",
      "metadata": {
        "id": "0c7f7028"
      },
      "source": [
        "# 1. Import the required libraries"
      ]
    },
    {
      "cell_type": "code",
      "execution_count": 65,
      "id": "1a096390",
      "metadata": {
        "colab": {
          "base_uri": "https://localhost:8080/"
        },
        "id": "1a096390",
        "outputId": "a3c195eb-8807-4d87-9fa7-f3f5990fbac9"
      },
      "outputs": [
        {
          "output_type": "stream",
          "name": "stdout",
          "text": [
            "Drive already mounted at /content/drive; to attempt to forcibly remount, call drive.mount(\"/content/drive\", force_remount=True).\n"
          ]
        }
      ],
      "source": [
        "##---------Type the code below this line------------------##\n",
        "\n",
        "from google.colab import drive\n",
        "drive.mount('/content/drive')\n",
        "import tensorflow as tf\n",
        "from tensorflow.keras import layers, models\n",
        "from sklearn.model_selection import train_test_split\n",
        "import os\n",
        "\n"
      ]
    },
    {
      "cell_type": "markdown",
      "id": "3cc8e0cb",
      "metadata": {
        "id": "3cc8e0cb"
      },
      "source": [
        "# 2. Data Acquisition\n",
        "\n",
        "For the problem identified by you, students have to find the data source themselves from any data source.\n",
        "\n",
        "Provide the URL of the data used.\n",
        "\n",
        "Write Code for converting the above downloaded data into a form suitable for DL\n",
        "\n"
      ]
    },
    {
      "cell_type": "code",
      "execution_count": 66,
      "id": "4b51d895",
      "metadata": {
        "id": "4b51d895"
      },
      "outputs": [],
      "source": [
        "##---------Type the code below this line------------------##\n",
        "\n",
        "class_paths = [\n",
        "    \"/content/drive/MyDrive/antelope\",\n",
        "    \"/content/drive/MyDrive/bear\",\n",
        "    \"/content/drive/MyDrive/bison\",\n",
        "    \"/content/drive/MyDrive/cat\",\n",
        "    \"/content/drive/MyDrive/elephant\",\n",
        "    \"/content/drive/MyDrive/lion\",\n",
        "    \"/content/drive/MyDrive/zebra\"\n",
        "]\n",
        "all_image_paths = []\n",
        "all_labels = []\n"
      ]
    },
    {
      "cell_type": "markdown",
      "id": "102e0e36",
      "metadata": {
        "id": "102e0e36"
      },
      "source": [
        "# 3. Data Preparation\n",
        "\n",
        "Perform the data prepracessing that is required for the data that you have downloaded.\n",
        "\n",
        "\n",
        "This stage depends on the dataset that is used."
      ]
    },
    {
      "cell_type": "code",
      "execution_count": 68,
      "id": "dd3118eb",
      "metadata": {
        "id": "dd3118eb"
      },
      "outputs": [],
      "source": [
        "##---------Type the code below this line------------------##\n",
        "\n",
        "## Split the data into training set and testing set\n",
        "##---------Type the code below this line------------------##\n",
        "# Split the data into training, testing, and validation sets\n",
        "for label, class_path in enumerate(class_paths):\n",
        "    image_paths = [os.path.join(class_path, img) for img in os.listdir(class_path)]\n",
        "    all_image_paths.extend(image_paths)\n",
        "    all_labels.extend([label] * len(image_paths))\n",
        "\n",
        "# Split the dataset into training and validation sets\n",
        "train_image_paths, val_image_paths, train_labels, val_labels = train_test_split(\n",
        "    all_image_paths, all_labels, test_size=0.2, random_state=42\n",
        ")\n",
        "\n",
        "# Function to preprocess an image path and label\n",
        "def preprocess_image(image_path, label):\n",
        "    # Read and decode the image file\n",
        "    image = tf.io.read_file(image_path)\n",
        "    image = tf.image.decode_jpeg(image, channels=3)\n",
        "    # Resize the image to your desired input size\n",
        "    image = tf.image.resize(image, [224, 224])\n",
        "    # Normalize pixel values to be between 0 and 1\n",
        "    image = image / 255.0\n",
        "    return image, label"
      ]
    },
    {
      "cell_type": "raw",
      "id": "b310ceab",
      "metadata": {
        "id": "b310ceab"
      },
      "source": [
        "Report the feature representation that is being used for training the model.\n",
        "\n",
        "##---------Type below this line------------------##\n",
        "\n",
        "Classification is used."
      ]
    },
    {
      "cell_type": "markdown",
      "id": "3ae0b5d2",
      "metadata": {
        "id": "3ae0b5d2"
      },
      "source": [
        "## 4. Deep Neural Network Architecture\n"
      ]
    },
    {
      "cell_type": "markdown",
      "id": "186bf4d7",
      "metadata": {
        "id": "186bf4d7"
      },
      "source": [
        "## 4.1 Design the architecture that you will be using\n",
        "\n",
        "* CNN / RNN / Transformer as per the journal referenced\n",
        "\n"
      ]
    },
    {
      "cell_type": "code",
      "execution_count": 69,
      "id": "868d7b27",
      "metadata": {
        "id": "868d7b27"
      },
      "outputs": [],
      "source": [
        "# Create TensorFlow datasets\n",
        "batch_size = 32\n",
        "\n",
        "train_dataset = tf.data.Dataset.from_tensor_slices((train_image_paths, train_labels))\n",
        "train_dataset = train_dataset.map(preprocess_image)\n",
        "train_dataset = train_dataset.shuffle(buffer_size=len(train_image_paths))\n",
        "train_dataset = train_dataset.batch(batch_size)\n",
        "\n",
        "val_dataset = tf.data.Dataset.from_tensor_slices((val_image_paths, val_labels))\n",
        "val_dataset = val_dataset.map(preprocess_image)\n",
        "val_dataset = val_dataset.batch(batch_size)\n",
        "\n",
        "# CNN Architecture\n",
        "model = models.Sequential()\n",
        "model.add(layers.Conv2D(32, (3, 3), activation='relu', input_shape=(224, 224, 3)))\n",
        "model.add(layers.MaxPooling2D((2, 2)))\n",
        "model.add(layers.Conv2D(64, (3, 3), activation='relu'))\n",
        "model.add(layers.MaxPooling2D((2, 2)))\n",
        "model.add(layers.Flatten())\n",
        "model.add(layers.Dense(64, activation='relu'))\n",
        "model.add(layers.Dense(len(class_paths), activation='softmax'))\n",
        "\n",
        "# Compile the model\n",
        "model.compile(optimizer='adam', loss='sparse_categorical_crossentropy', metrics=['accuracy'])\n"
      ]
    },
    {
      "cell_type": "markdown",
      "id": "575f9e37",
      "metadata": {
        "id": "575f9e37"
      },
      "source": [
        "## 4.2 DNN Report\n",
        "\n",
        "Report the following and provide justification for the same.\n",
        "\n",
        "* Number of layers\n",
        "* Number of units in each layer\n",
        "* Total number of trainable parameters\n",
        "\n"
      ]
    },
    {
      "cell_type": "raw",
      "id": "f5cd8f8f",
      "metadata": {
        "id": "f5cd8f8f"
      },
      "source": [
        "##---------Type the answer below this line------------------##"
      ]
    },
    {
      "cell_type": "markdown",
      "id": "bdbc82a1",
      "metadata": {
        "id": "bdbc82a1"
      },
      "source": [
        "# 5. Training the model\n"
      ]
    },
    {
      "cell_type": "code",
      "source": [
        "\n",
        "# Train the model\n",
        "epochs = 10\n",
        "history = model.fit(\n",
        "    train_dataset,\n",
        "    epochs=epochs,\n",
        "    validation_data=val_dataset\n",
        ")\n"
      ],
      "metadata": {
        "colab": {
          "base_uri": "https://localhost:8080/"
        },
        "id": "ad-1BoXsSbCC",
        "outputId": "393bfd28-32db-4684-d1c5-bb1dd63d7c91"
      },
      "id": "ad-1BoXsSbCC",
      "execution_count": 70,
      "outputs": [
        {
          "output_type": "stream",
          "name": "stdout",
          "text": [
            "Epoch 1/10\n",
            "4/4 [==============================] - 12s 3s/step - loss: 5.2006 - accuracy: 0.1600 - val_loss: 2.5626 - val_accuracy: 0.3462\n",
            "Epoch 2/10\n",
            "4/4 [==============================] - 9s 2s/step - loss: 2.1612 - accuracy: 0.3300 - val_loss: 1.8213 - val_accuracy: 0.2692\n",
            "Epoch 3/10\n",
            "4/4 [==============================] - 9s 2s/step - loss: 1.5898 - accuracy: 0.4700 - val_loss: 1.5810 - val_accuracy: 0.4615\n",
            "Epoch 4/10\n",
            "4/4 [==============================] - 14s 3s/step - loss: 1.1745 - accuracy: 0.6700 - val_loss: 1.2860 - val_accuracy: 0.4615\n",
            "Epoch 5/10\n",
            "4/4 [==============================] - 11s 3s/step - loss: 0.7742 - accuracy: 0.7900 - val_loss: 1.0268 - val_accuracy: 0.5769\n",
            "Epoch 6/10\n",
            "4/4 [==============================] - 10s 2s/step - loss: 0.4826 - accuracy: 0.8900 - val_loss: 0.9169 - val_accuracy: 0.6538\n",
            "Epoch 7/10\n",
            "4/4 [==============================] - 10s 2s/step - loss: 0.2639 - accuracy: 0.9400 - val_loss: 0.8023 - val_accuracy: 0.6538\n",
            "Epoch 8/10\n",
            "4/4 [==============================] - 11s 3s/step - loss: 0.0992 - accuracy: 1.0000 - val_loss: 0.6189 - val_accuracy: 0.6923\n",
            "Epoch 9/10\n",
            "4/4 [==============================] - 8s 2s/step - loss: 0.0373 - accuracy: 1.0000 - val_loss: 0.6600 - val_accuracy: 0.7692\n",
            "Epoch 10/10\n",
            "4/4 [==============================] - 10s 2s/step - loss: 0.0142 - accuracy: 1.0000 - val_loss: 0.6670 - val_accuracy: 0.7308\n"
          ]
        }
      ]
    },
    {
      "cell_type": "markdown",
      "id": "06f1173c",
      "metadata": {
        "id": "06f1173c"
      },
      "source": [
        "# 6. Test the model\n"
      ]
    },
    {
      "cell_type": "code",
      "execution_count": 71,
      "id": "7042235d",
      "metadata": {
        "id": "7042235d",
        "colab": {
          "base_uri": "https://localhost:8080/"
        },
        "outputId": "77cd914a-81e7-4449-9d02-c03867f682f6"
      },
      "outputs": [
        {
          "output_type": "stream",
          "name": "stdout",
          "text": [
            "1/1 [==============================] - 0s 375ms/step - loss: 87.5136 - accuracy: 0.6154\n",
            "Test Accuracy: 61.54%\n"
          ]
        }
      ],
      "source": [
        "# Evaluate the model on the test set\n",
        "test_loss, test_accuracy = model.evaluate(test_dataset)\n",
        "\n",
        "# Print the test accuracy\n",
        "print(f'Test Accuracy: {test_accuracy * 100:.2f}%')\n"
      ]
    },
    {
      "cell_type": "markdown",
      "id": "eb57940c",
      "metadata": {
        "id": "eb57940c"
      },
      "source": [
        "# 7. Report the result\n",
        "\n",
        "1. Plot the training and validation accuracy history.\n",
        "2. Plot the training and validation loss history.\n",
        "3. Report the testing accuracy and loss.\n",
        "4. Show Confusion Matrix for testing dataset.\n",
        "5. Report values for preformance study metrics like accuracy, precision, recall, F1 Score.\n"
      ]
    },
    {
      "cell_type": "code",
      "execution_count": 64,
      "id": "cf409d22",
      "metadata": {
        "colab": {
          "base_uri": "https://localhost:8080/",
          "height": 449
        },
        "id": "cf409d22",
        "outputId": "ee1f1776-225b-45f3-d481-b998d0675044"
      },
      "outputs": [
        {
          "output_type": "display_data",
          "data": {
            "text/plain": [
              "<Figure size 640x480 with 1 Axes>"
            ],
            "image/png": "[encoded data removed]"
          },
          "metadata": {}
        }
      ],
      "source": [
        "##---------Type the code below this line------------------##\n",
        "\n",
        "##---------Type the code below this line------------------##\n",
        "\n",
        "import matplotlib.pyplot as plt\n",
        "\n",
        "# Plot training and validation accuracy over epochs\n",
        "plt.plot(history.history['accuracy'], label='Training Accuracy')\n",
        "plt.plot(history.history['val_accuracy'], label='Validation Accuracy')\n",
        "plt.xlabel('Epoch')\n",
        "plt.ylabel('Accuracy')\n",
        "plt.legend()\n",
        "plt.show()"
      ]
    },
    {
      "cell_type": "markdown",
      "id": "RcDDQlfbZQ7E",
      "metadata": {
        "id": "RcDDQlfbZQ7E"
      },
      "source": [
        "### NOTE\n",
        "\n",
        "\n",
        "All Late Submissions will incur a <b>penalty of -2 marks </b>. So submit your assignments on time.\n",
        "\n",
        "Good Luck"
      ]
    }
  ],
  "metadata": {
    "colab": {
      "provenance": []
    },
    "kernelspec": {
      "display_name": "Python 3 (ipykernel)",
      "language": "python",
      "name": "python3"
    },
    "language_info": {
      "codemirror_mode": {
        "name": "ipython",
        "version": 3
      },
      "file_extension": ".py",
      "mimetype": "text/x-python",
      "name": "python",
      "nbconvert_exporter": "python",
      "pygments_lexer": "ipython3",
      "version": "3.8.10"
    }
  },
  "nbformat": 4,
  "nbformat_minor": 5
}