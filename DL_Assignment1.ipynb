{
  "nbformat": 4,
  "nbformat_minor": 0,
  "metadata": {
    "colab": {
      "provenance": [],
      "authorship_tag": "ABX9TyN2tmIVAI/55Ri8gH6pdwRw",
      "include_colab_link": true
    },
    "kernelspec": {
      "name": "python3",
      "display_name": "Python 3"
    },
    "language_info": {
      "name": "python"
    },
    "accelerator": "TPU"
  },
  "cells": [
    {
      "cell_type": "markdown",
      "metadata": {
        "id": "view-in-github",
        "colab_type": "text"
      },
      "source": [
        "<a href=\"https://colab.research.google.com/github/meBooboo/DSA/blob/main/DL_Assignment1.ipynb\" target=\"_parent\"><img src=\"https://colab.research.google.com/assets/colab-badge.svg\" alt=\"Open In Colab\"/></a>"
      ]
    },
    {
      "cell_type": "code",
      "source": [
        "import numpy as np\n",
        "import tensorflow as tf\n",
        "from tensorflow.keras.models import Sequential\n",
        "from tensorflow.keras.layers import Dense, Flatten\n",
        "from tensorflow.keras.preprocessing.image import ImageDataGenerator\n",
        "\n",
        "train_datagen = ImageDataGenerator(rescale=1./255)\n",
        "validation_datagen = ImageDataGenerator(rescale=1./255)\n",
        "test_datagen = ImageDataGenerator(rescale=1./255)\n",
        "\n",
        "from google.colab import drive\n",
        "drive.mount('/content/drive')\n",
        "\n",
        "train_folder = '/content/drive/My Drive/data/train'\n",
        "validation_folder = '/content/drive/My Drive/data/validation'\n",
        "test_folder = '/content/drive/My Drive/data/test'  #path for test dataset\n",
        "\n",
        "train_generator = train_datagen.flow_from_directory(\n",
        "    train_folder,\n",
        "    target_size=(150, 150),\n",
        "    batch_size=32,\n",
        "    class_mode='binary'\n",
        ")\n",
        "\n",
        "\n",
        "validation_generator = validation_datagen.flow_from_directory(\n",
        "    validation_folder,\n",
        "    target_size=(150, 150),\n",
        "    batch_size=32,\n",
        "    class_mode='binary'\n",
        ")\n",
        "\n",
        "test_generator = test_datagen.flow_from_directory(\n",
        "    test_folder,\n",
        "    target_size=(150, 150),\n",
        "    batch_size=32,\n",
        "    class_mode='binary'\n",
        ")\n",
        "\n",
        "# Create the model\n",
        "model = Sequential()\n",
        "model.add(Flatten(input_shape=(150, 150, 3)))\n",
        "model.add(Dense(128, activation='relu'))\n",
        "model.add(Dense(64, activation='relu'))\n",
        "model.add(Dense(1, activation='sigmoid'))\n",
        "\n",
        "# Compile the model\n",
        "model.compile(optimizer='adam', loss='binary_crossentropy', metrics=['accuracy'])\n",
        "\n",
        "# Train the model\n",
        "history = model.fit(\n",
        "    train_generator,\n",
        "    epochs=10,\n",
        "    validation_data=validation_generator\n",
        ")\n",
        "\n",
        "# Evaluate the model on validation data\n",
        "loss, accuracy = model.evaluate(validation_generator)\n",
        "print(f'Validation Accuracy: {accuracy * 100:.2f}%')\n",
        "\n",
        "# Test the model on separate test data\n",
        "test_loss, test_accuracy = model.evaluate(test_generator)\n",
        "print(f'Test Accuracy: {test_accuracy * 100:.2f}%')\n"
      ],
      "metadata": {
        "colab": {
          "base_uri": "https://localhost:8080/"
        },
        "id": "CguxPj4okSXd",
        "outputId": "94bd99cc-d3d4-4444-b0b4-61fd5f9c9eed"
      },
      "execution_count": null,
      "outputs": [
        {
          "output_type": "stream",
          "name": "stdout",
          "text": [
            "Drive already mounted at /content/drive; to attempt to forcibly remount, call drive.mount(\"/content/drive\", force_remount=True).\n",
            "Found 1003 images belonging to 2 classes.\n",
            "Found 1003 images belonging to 2 classes.\n",
            "Found 1078 images belonging to 2 classes.\n",
            "Epoch 1/10\n",
            "32/32 [==============================] - 14s 403ms/step - loss: 9.1042 - accuracy: 0.4875 - val_loss: 1.8758 - val_accuracy: 0.5125\n",
            "Epoch 2/10\n",
            "32/32 [==============================] - 13s 412ms/step - loss: 1.3166 - accuracy: 0.5204 - val_loss: 1.4408 - val_accuracy: 0.5065\n",
            "Epoch 3/10\n",
            "32/32 [==============================] - 13s 418ms/step - loss: 1.2608 - accuracy: 0.5464 - val_loss: 0.7654 - val_accuracy: 0.5573\n",
            "Epoch 4/10\n",
            "32/32 [==============================] - 13s 394ms/step - loss: 0.9216 - accuracy: 0.5703 - val_loss: 1.3959 - val_accuracy: 0.5095\n",
            "Epoch 5/10\n",
            "32/32 [==============================] - 15s 466ms/step - loss: 0.7634 - accuracy: 0.6022 - val_loss: 0.7888 - val_accuracy: 0.5454\n",
            "Epoch 6/10\n",
            "32/32 [==============================] - 13s 410ms/step - loss: 0.8269 - accuracy: 0.5992 - val_loss: 1.3556 - val_accuracy: 0.5105\n",
            "Epoch 7/10\n",
            "32/32 [==============================] - 15s 475ms/step - loss: 0.9680 - accuracy: 0.5882 - val_loss: 1.0100 - val_accuracy: 0.5424\n",
            "Epoch 8/10\n",
            "32/32 [==============================] - 13s 405ms/step - loss: 0.7246 - accuracy: 0.6291 - val_loss: 0.9350 - val_accuracy: 0.5384\n",
            "Epoch 9/10\n",
            "32/32 [==============================] - 12s 378ms/step - loss: 0.6376 - accuracy: 0.6680 - val_loss: 0.7202 - val_accuracy: 0.5693\n",
            "Epoch 10/10\n",
            "32/32 [==============================] - 13s 417ms/step - loss: 0.7717 - accuracy: 0.6092 - val_loss: 0.7323 - val_accuracy: 0.5703\n",
            "32/32 [==============================] - 5s 151ms/step - loss: 0.7323 - accuracy: 0.5703\n",
            "Validation Accuracy: 57.03%\n",
            "34/34 [==============================] - 5s 132ms/step - loss: 0.7335 - accuracy: 0.5705\n",
            "Test Accuracy: 57.05%\n"
          ]
        }
      ]
    },
    {
      "cell_type": "code",
      "source": [
        "import os\n",
        "from PIL import Image\n",
        "folder_path = r'/content/drive/My Drive/data/validation'\n",
        "extensions = []\n",
        "for fldr in os.listdir(folder_path):\n",
        "    sub_folder_path = os.path.join(folder_path, fldr)\n",
        "    for filee in os.listdir(sub_folder_path):\n",
        "        file_path = os.path.join(sub_folder_path, filee)\n",
        "        print('** Path: {}  **'.format(file_path), end=\"\\r\", flush=True)\n",
        "        im = Image.open(file_path)\n",
        "        rgb_im = im.convert('RGB')\n",
        "        if filee.split('.')[1] not in extensions:\n",
        "            extensions.append(filee.split('.')[1])"
      ],
      "metadata": {
        "colab": {
          "base_uri": "https://localhost:8080/"
        },
        "id": "sm2uZ0zQ6ltN",
        "outputId": "2719fd23-b7fa-4422-cbc4-c4acdd24de09"
      },
      "execution_count": null,
      "outputs": [
        {
          "output_type": "stream",
          "name": "stdout",
          "text": []
        }
      ]
    }
  ]
}